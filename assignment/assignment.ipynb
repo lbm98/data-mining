{
 "cells": [
  {
   "cell_type": "markdown",
   "id": "f9364bf2-ea30-405b-b96c-7122d45f258f",
   "metadata": {},
   "source": [
    "# Assignment\n",
    "\n",
    "## Context\n",
    "\n",
    "Select people for a promotion and maximize the revenue.\n",
    "\n",
    "People can accept (react positively) or reject the promotion offer.\n",
    "- High income -> 10% accept\n",
    "- Low income -> 5% accept\n",
    "\n",
    "The return of a customer differs.\n",
    "- High income -> 980 Euro\n",
    "- Low income -> -310 Euro\n",
    "\n",
    "The cost of sending the promotion is 10 Euro.\n",
    "\n",
    "2 datasets:\n",
    "- Potential customers (no income data)\n",
    "- Existing customers (with income data)\n",
    "\n",
    "Calculate:\n",
    "- Selection of people to send the promotion\n",
    "- Estimation of the profit"
   ]
  },
  {
   "cell_type": "markdown",
   "id": "976db60d-9b38-4c43-9659-c660c92056da",
   "metadata": {},
   "source": [
    "## TODO\n",
    "\n",
    "- What to did you do with the missing values?\n",
    "- Did you normalize the data?\n",
    "- What classification methods did you try?\n",
    "- How did you evaluate your classification?"
   ]
  },
  {
   "cell_type": "markdown",
   "id": "81b7057f-5957-475c-94ff-82545c2914ce",
   "metadata": {},
   "source": [
    "## Intro to Scikit"
   ]
  },
  {
   "cell_type": "markdown",
   "id": "02ceb763-2cc1-4e13-9c5b-873d650e5476",
   "metadata": {},
   "source": [
    "The classification algorihtms are called `estimators`.\n",
    "Estimators have 2 main methods:\n",
    "- fit\n",
    "- predict\n",
    "\n",
    "Fit has 2 arguments:\n",
    "- samples matrix X (n_samples -> rows, n_features -> columns)\n",
    "- class label y (optional)\n",
    "\n",
    "`Transformers` have 2 main methods:\n",
    "- fit\n",
    "- transform\n",
    "\n",
    "Transformers and Estimators can be combined into a Pipeline."
   ]
  },
  {
   "cell_type": "markdown",
   "id": "e8e6d436-75a6-4359-86ea-607171d2301d",
   "metadata": {},
   "source": [
    "## Workflow\n",
    "\n",
    "1. Preprocessing"
   ]
  },
  {
   "cell_type": "markdown",
   "id": "f2d582ce-718d-43da-9e4e-ea07941acefb",
   "metadata": {
    "tags": []
   },
   "source": [
    "## Data Preprocessing\n",
    "\n",
    "sklearn.preprocessing"
   ]
  },
  {
   "cell_type": "markdown",
   "id": "5c4ae860-7dd4-4493-8b9d-8a4c3b92fbcb",
   "metadata": {},
   "source": [
    "sklearn.preprocessing"
   ]
  },
  {
   "cell_type": "markdown",
   "id": "65c69e15-7557-4bf3-b470-9af6dfd1df79",
   "metadata": {},
   "source": [
    "### Data Quality Issues\n",
    "\n",
    "- noise, outliers\n",
    "- missing, inconsistent, duplicate entries\n",
    "- unrepresentative\n",
    "\n",
    "=> Preprocessing to make it more suitable for analysis\n",
    "\n",
    "Knowing your data is important!\n",
    "Never blindly perform classification!\n",
    "\n",
    "It can be challenging to determine which operations can\n",
    "be performed on a particular attribute without\n",
    "compromising the integrity of the analysis.\n",
    "\n",
    "### Handle Missing Values\n",
    "\n",
    "\n",
    "- remove entries with missing values\n",
    "    - viable only if a few entries have missing values\n",
    "    - some information is still lost\n",
    "- remove attributes that have missing values (not recommended)\n",
    "- estimate missing values\n",
    "    - interpolation\n",
    "    - consider closest points\n",
    "        - average (for continous attributes)\n",
    "        - most commonly occurring (for categorical attributes)\n",
    "- don't handle in preprocessing but modify classification algorithm\n"
   ]
  },
  {
   "cell_type": "code",
   "execution_count": null,
   "id": "b72c0892-e217-4594-b5a3-d3165a3ea415",
   "metadata": {},
   "outputs": [],
   "source": []
  }
 ],
 "metadata": {
  "kernelspec": {
   "display_name": "Python 3 (ipykernel)",
   "language": "python",
   "name": "python3"
  },
  "language_info": {
   "codemirror_mode": {
    "name": "ipython",
    "version": 3
   },
   "file_extension": ".py",
   "mimetype": "text/x-python",
   "name": "python",
   "nbconvert_exporter": "python",
   "pygments_lexer": "ipython3",
   "version": "3.10.4"
  }
 },
 "nbformat": 4,
 "nbformat_minor": 5
}
