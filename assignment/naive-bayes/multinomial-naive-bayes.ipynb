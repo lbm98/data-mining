{
 "cells": [
  {
   "cell_type": "markdown",
   "id": "3f75ee01-3a90-4b50-8f8b-906803661f1e",
   "metadata": {},
   "source": [
    "# Multinomial Naive Bayes"
   ]
  },
  {
   "cell_type": "code",
   "execution_count": 1,
   "id": "4b0816a9-ecff-42d6-a5e9-9ae12863a68d",
   "metadata": {
    "tags": []
   },
   "outputs": [],
   "source": [
    "import numpy as np\n",
    "import pandas as pd\n",
    "import seaborn as sns\n",
    "import matplotlib.pyplot as plt"
   ]
  },
  {
   "cell_type": "code",
   "execution_count": 2,
   "id": "064748e7-940b-4c1d-8281-5b2182b7a043",
   "metadata": {
    "tags": []
   },
   "outputs": [],
   "source": [
    "plt.rcParams['figure.figsize'] = [4, 3]"
   ]
  },
  {
   "cell_type": "code",
   "execution_count": 64,
   "id": "93c29918-000b-4395-934f-d5bb60cb833d",
   "metadata": {
    "tags": []
   },
   "outputs": [],
   "source": [
    "import warnings\n",
    "\n",
    "with warnings.catch_warnings():\n",
    "    warnings.simplefilter(\"ignore\")\n",
    "    df = pd.read_excel('../data/existing-customers.xlsx')"
   ]
  },
  {
   "cell_type": "code",
   "execution_count": 14,
   "id": "81dca993-25f6-4378-b827-08e033aabe48",
   "metadata": {
    "tags": []
   },
   "outputs": [
    {
     "data": {
      "text/plain": [
       "(32561, 15)"
      ]
     },
     "execution_count": 14,
     "metadata": {},
     "output_type": "execute_result"
    }
   ],
   "source": [
    "df.shape"
   ]
  },
  {
   "cell_type": "code",
   "execution_count": 12,
   "id": "cf3032d2-6c54-4b8c-bdb6-193cbbcb10e9",
   "metadata": {
    "tags": []
   },
   "outputs": [
    {
     "data": {
      "text/html": [
       "<div>\n",
       "<style scoped>\n",
       "    .dataframe tbody tr th:only-of-type {\n",
       "        vertical-align: middle;\n",
       "    }\n",
       "\n",
       "    .dataframe tbody tr th {\n",
       "        vertical-align: top;\n",
       "    }\n",
       "\n",
       "    .dataframe thead th {\n",
       "        text-align: right;\n",
       "    }\n",
       "</style>\n",
       "<table border=\"1\" class=\"dataframe\">\n",
       "  <thead>\n",
       "    <tr style=\"text-align: right;\">\n",
       "      <th></th>\n",
       "      <th>RowID</th>\n",
       "      <th>age</th>\n",
       "      <th>workclass</th>\n",
       "      <th>education</th>\n",
       "      <th>education-num</th>\n",
       "      <th>marital-status</th>\n",
       "      <th>occupation</th>\n",
       "      <th>relationship</th>\n",
       "      <th>race</th>\n",
       "      <th>sex</th>\n",
       "      <th>capital-gain</th>\n",
       "      <th>capital-loss</th>\n",
       "      <th>hours-per-week</th>\n",
       "      <th>native-country</th>\n",
       "      <th>class</th>\n",
       "    </tr>\n",
       "  </thead>\n",
       "  <tbody>\n",
       "    <tr>\n",
       "      <th>0</th>\n",
       "      <td>Row0</td>\n",
       "      <td>39</td>\n",
       "      <td>State-gov</td>\n",
       "      <td>Bachelors</td>\n",
       "      <td>13</td>\n",
       "      <td>Never-married</td>\n",
       "      <td>Adm-clerical</td>\n",
       "      <td>Not-in-family</td>\n",
       "      <td>White</td>\n",
       "      <td>Male</td>\n",
       "      <td>2174</td>\n",
       "      <td>0</td>\n",
       "      <td>40</td>\n",
       "      <td>United-States</td>\n",
       "      <td>&lt;=50K</td>\n",
       "    </tr>\n",
       "    <tr>\n",
       "      <th>1</th>\n",
       "      <td>Row1</td>\n",
       "      <td>50</td>\n",
       "      <td>Self-emp-not-inc</td>\n",
       "      <td>Bachelors</td>\n",
       "      <td>13</td>\n",
       "      <td>Married-civ-spouse</td>\n",
       "      <td>Exec-managerial</td>\n",
       "      <td>Husband</td>\n",
       "      <td>White</td>\n",
       "      <td>Male</td>\n",
       "      <td>0</td>\n",
       "      <td>0</td>\n",
       "      <td>13</td>\n",
       "      <td>United-States</td>\n",
       "      <td>&lt;=50K</td>\n",
       "    </tr>\n",
       "    <tr>\n",
       "      <th>2</th>\n",
       "      <td>Row2</td>\n",
       "      <td>38</td>\n",
       "      <td>Private</td>\n",
       "      <td>HS-grad</td>\n",
       "      <td>9</td>\n",
       "      <td>Divorced</td>\n",
       "      <td>Handlers-cleaners</td>\n",
       "      <td>Not-in-family</td>\n",
       "      <td>White</td>\n",
       "      <td>Male</td>\n",
       "      <td>0</td>\n",
       "      <td>0</td>\n",
       "      <td>40</td>\n",
       "      <td>United-States</td>\n",
       "      <td>&lt;=50K</td>\n",
       "    </tr>\n",
       "    <tr>\n",
       "      <th>3</th>\n",
       "      <td>Row3</td>\n",
       "      <td>53</td>\n",
       "      <td>Private</td>\n",
       "      <td>11th</td>\n",
       "      <td>7</td>\n",
       "      <td>Married-civ-spouse</td>\n",
       "      <td>Handlers-cleaners</td>\n",
       "      <td>Husband</td>\n",
       "      <td>Black</td>\n",
       "      <td>Male</td>\n",
       "      <td>0</td>\n",
       "      <td>0</td>\n",
       "      <td>40</td>\n",
       "      <td>United-States</td>\n",
       "      <td>&lt;=50K</td>\n",
       "    </tr>\n",
       "    <tr>\n",
       "      <th>4</th>\n",
       "      <td>Row4</td>\n",
       "      <td>28</td>\n",
       "      <td>Private</td>\n",
       "      <td>Bachelors</td>\n",
       "      <td>13</td>\n",
       "      <td>Married-civ-spouse</td>\n",
       "      <td>Prof-specialty</td>\n",
       "      <td>Wife</td>\n",
       "      <td>Black</td>\n",
       "      <td>Female</td>\n",
       "      <td>0</td>\n",
       "      <td>0</td>\n",
       "      <td>40</td>\n",
       "      <td>Cuba</td>\n",
       "      <td>&lt;=50K</td>\n",
       "    </tr>\n",
       "  </tbody>\n",
       "</table>\n",
       "</div>"
      ],
      "text/plain": [
       "  RowID  age         workclass  education  education-num      marital-status  \\\n",
       "0  Row0   39         State-gov  Bachelors             13       Never-married   \n",
       "1  Row1   50  Self-emp-not-inc  Bachelors             13  Married-civ-spouse   \n",
       "2  Row2   38           Private    HS-grad              9            Divorced   \n",
       "3  Row3   53           Private       11th              7  Married-civ-spouse   \n",
       "4  Row4   28           Private  Bachelors             13  Married-civ-spouse   \n",
       "\n",
       "          occupation   relationship   race     sex  capital-gain  \\\n",
       "0       Adm-clerical  Not-in-family  White    Male          2174   \n",
       "1    Exec-managerial        Husband  White    Male             0   \n",
       "2  Handlers-cleaners  Not-in-family  White    Male             0   \n",
       "3  Handlers-cleaners        Husband  Black    Male             0   \n",
       "4     Prof-specialty           Wife  Black  Female             0   \n",
       "\n",
       "   capital-loss  hours-per-week native-country  class  \n",
       "0             0              40  United-States  <=50K  \n",
       "1             0              13  United-States  <=50K  \n",
       "2             0              40  United-States  <=50K  \n",
       "3             0              40  United-States  <=50K  \n",
       "4             0              40           Cuba  <=50K  "
      ]
     },
     "execution_count": 12,
     "metadata": {},
     "output_type": "execute_result"
    }
   ],
   "source": [
    "df.head()"
   ]
  },
  {
   "cell_type": "code",
   "execution_count": 13,
   "id": "bc06dfb1-84b4-4674-8eb6-9c883d624e24",
   "metadata": {
    "tags": []
   },
   "outputs": [
    {
     "name": "stdout",
     "output_type": "stream",
     "text": [
      "<class 'pandas.core.frame.DataFrame'>\n",
      "RangeIndex: 32561 entries, 0 to 32560\n",
      "Data columns (total 15 columns):\n",
      " #   Column          Non-Null Count  Dtype \n",
      "---  ------          --------------  ----- \n",
      " 0   RowID           32561 non-null  object\n",
      " 1   age             32561 non-null  int64 \n",
      " 2   workclass       30725 non-null  object\n",
      " 3   education       32561 non-null  object\n",
      " 4   education-num   32561 non-null  int64 \n",
      " 5   marital-status  32561 non-null  object\n",
      " 6   occupation      30718 non-null  object\n",
      " 7   relationship    32561 non-null  object\n",
      " 8   race            32561 non-null  object\n",
      " 9   sex             32561 non-null  object\n",
      " 10  capital-gain    32561 non-null  int64 \n",
      " 11  capital-loss    32561 non-null  int64 \n",
      " 12  hours-per-week  32561 non-null  int64 \n",
      " 13  native-country  31978 non-null  object\n",
      " 14  class           32561 non-null  object\n",
      "dtypes: int64(5), object(10)\n",
      "memory usage: 3.7+ MB\n"
     ]
    }
   ],
   "source": [
    "df.info()"
   ]
  },
  {
   "cell_type": "code",
   "execution_count": 33,
   "id": "6c491a77-147b-408a-9297-5e58fc252e36",
   "metadata": {
    "tags": []
   },
   "outputs": [],
   "source": [
    "categorical_cols = [\n",
    "    'workclass',\n",
    "    'education',\n",
    "    'marital-status',\n",
    "    'occupation',\n",
    "    'relationship',\n",
    "    'race',\n",
    "    'sex',\n",
    "    'native-country'\n",
    "]\n",
    "    \n",
    "numerical_cols = [\n",
    "    'age',\n",
    "    'education-num',\n",
    "    'capital-gain',\n",
    "    'capital-loss',\n",
    "    'hours-per-week'\n",
    "]"
   ]
  },
  {
   "cell_type": "markdown",
   "id": "edda2749-9927-412c-a855-2a01ad99ef34",
   "metadata": {},
   "source": [
    "### Handle Missing Values\n",
    "\n",
    "Naive Bayes classifiers can handle missing values"
   ]
  },
  {
   "cell_type": "code",
   "execution_count": 15,
   "id": "067c10dd-1d63-4f7a-85a1-bf47ceaedfc0",
   "metadata": {
    "tags": []
   },
   "outputs": [
    {
     "data": {
      "text/plain": [
       "RowID                0\n",
       "age                  0\n",
       "workclass         1836\n",
       "education            0\n",
       "education-num        0\n",
       "marital-status       0\n",
       "occupation        1843\n",
       "relationship         0\n",
       "race                 0\n",
       "sex                  0\n",
       "capital-gain         0\n",
       "capital-loss         0\n",
       "hours-per-week       0\n",
       "native-country     583\n",
       "class                0\n",
       "dtype: int64"
      ]
     },
     "execution_count": 15,
     "metadata": {},
     "output_type": "execute_result"
    }
   ],
   "source": [
    "df.isnull().sum()"
   ]
  },
  {
   "cell_type": "markdown",
   "id": "f719fe1d-29b6-4a5e-b759-3c4bfa357eeb",
   "metadata": {},
   "source": [
    "### Handle Outliers\n",
    "\n",
    "Naive Bayes classifiers are robust to isolated noise points"
   ]
  },
  {
   "cell_type": "markdown",
   "id": "794314f4-8bb1-4d4e-9f5b-7ef9feb2f370",
   "metadata": {},
   "source": [
    "### Handle Correlated Attributes\n",
    "\n",
    "Correlated attributes can degrade the performance of Naive Bayes classifiers"
   ]
  },
  {
   "cell_type": "code",
   "execution_count": 19,
   "id": "21dfc550-db68-497f-8dcd-8c1c623a7991",
   "metadata": {
    "tags": []
   },
   "outputs": [
    {
     "data": {
      "image/png": "[encoded data removed]",
      "text/plain": [
       "<Figure size 400x400 with 1 Axes>"
      ]
     },
     "metadata": {},
     "output_type": "display_data"
    }
   ],
   "source": [
    "plt.matshow(df[num_cols].corr());"
   ]
  },
  {
   "cell_type": "code",
   "execution_count": 62,
   "id": "015a0bd9-b267-443d-ace4-429b4a8ee7b1",
   "metadata": {
    "tags": []
   },
   "outputs": [],
   "source": [
    "from sklearn.naive_bayes import MultinomialNB\n",
    "from sklearn.model_selection import train_test_split\n",
    "from sklearn.preprocessing import OneHotEncoder\n",
    "from sklearn.compose import ColumnTransformer\n",
    "from sklearn.metrics import accuracy_score\n",
    "from sklearn.utils import resample"
   ]
  },
  {
   "cell_type": "code",
   "execution_count": 65,
   "id": "c61ee578-3cd9-4bb3-a898-e4a5a9978aea",
   "metadata": {
    "tags": []
   },
   "outputs": [],
   "source": [
    "df.drop(['RowID'], axis=1, inplace=True)\n",
    "\n",
    "df_majority = df[df['class'] == '<=50K']\n",
    "df_minority = df[df['class'] == '>50K']\n",
    "\n",
    "df_minority_upsampled = resample(df_minority, \n",
    "                                 replace=True,\n",
    "                                 n_samples=len(df_majority),\n",
    "                                 random_state=2)\n",
    "\n",
    "df = pd.concat([df_majority, df_minority_upsampled])\n",
    "\n",
    "X = df.drop(['class'], axis=1)\n",
    "y = df['class']\n",
    "X_train, X_test, y_train, y_test = train_test_split(X, y, test_size = 0.3, random_state = 0)\n",
    "\n",
    "ct = ColumnTransformer(\n",
    "    [('encoder', OneHotEncoder(sparse_output=False, max_categories=5), categorical_cols)], remainder='passthrough')\n",
    "\n",
    "X_train_transformed  = ct.fit_transform(X_train)\n",
    "X_test_transformed = ct.transform(X_test)\n",
    "\n",
    "X_train = pd.DataFrame(\n",
    "    X_train_transformed, \n",
    "    columns=ct.get_feature_names_out()\n",
    ")\n",
    "\n",
    "X_test = pd.DataFrame(\n",
    "    X_test_transformed, \n",
    "    columns=ct.get_feature_names_out()\n",
    ")"
   ]
  },
  {
   "cell_type": "markdown",
   "id": "012d46a9-bb63-46c0-b8e2-1e3bef4ffce8",
   "metadata": {
    "tags": []
   },
   "source": [
    "### Limit Number of Categories"
   ]
  },
  {
   "cell_type": "code",
   "execution_count": 66,
   "id": "1a76571e-87af-485a-ae95-01c82fa531f2",
   "metadata": {
    "tags": []
   },
   "outputs": [
    {
     "data": {
      "text/plain": [
       "(34608, 42)"
      ]
     },
     "execution_count": 66,
     "metadata": {},
     "output_type": "execute_result"
    }
   ],
   "source": [
    "X_train.shape"
   ]
  },
  {
   "cell_type": "code",
   "execution_count": 67,
   "id": "ad955cc7-9797-4e14-8880-46c7c5644e0f",
   "metadata": {
    "tags": []
   },
   "outputs": [
    {
     "data": {
      "text/html": [
       "<div>\n",
       "<style scoped>\n",
       "    .dataframe tbody tr th:only-of-type {\n",
       "        vertical-align: middle;\n",
       "    }\n",
       "\n",
       "    .dataframe tbody tr th {\n",
       "        vertical-align: top;\n",
       "    }\n",
       "\n",
       "    .dataframe thead th {\n",
       "        text-align: right;\n",
       "    }\n",
       "</style>\n",
       "<table border=\"1\" class=\"dataframe\">\n",
       "  <thead>\n",
       "    <tr style=\"text-align: right;\">\n",
       "      <th></th>\n",
       "      <th>encoder__workclass_Local-gov</th>\n",
       "      <th>encoder__workclass_Private</th>\n",
       "      <th>encoder__workclass_Self-emp-inc</th>\n",
       "      <th>encoder__workclass_Self-emp-not-inc</th>\n",
       "      <th>encoder__workclass_infrequent_sklearn</th>\n",
       "      <th>encoder__education_Bachelors</th>\n",
       "      <th>encoder__education_HS-grad</th>\n",
       "      <th>encoder__education_Masters</th>\n",
       "      <th>encoder__education_Some-college</th>\n",
       "      <th>encoder__education_infrequent_sklearn</th>\n",
       "      <th>...</th>\n",
       "      <th>encoder__native-country_Mexico</th>\n",
       "      <th>encoder__native-country_Philippines</th>\n",
       "      <th>encoder__native-country_United-States</th>\n",
       "      <th>encoder__native-country_nan</th>\n",
       "      <th>encoder__native-country_infrequent_sklearn</th>\n",
       "      <th>remainder__age</th>\n",
       "      <th>remainder__education-num</th>\n",
       "      <th>remainder__capital-gain</th>\n",
       "      <th>remainder__capital-loss</th>\n",
       "      <th>remainder__hours-per-week</th>\n",
       "    </tr>\n",
       "  </thead>\n",
       "  <tbody>\n",
       "    <tr>\n",
       "      <th>0</th>\n",
       "      <td>0.0</td>\n",
       "      <td>1.0</td>\n",
       "      <td>0.0</td>\n",
       "      <td>0.0</td>\n",
       "      <td>0.0</td>\n",
       "      <td>0.0</td>\n",
       "      <td>0.0</td>\n",
       "      <td>0.0</td>\n",
       "      <td>0.0</td>\n",
       "      <td>1.0</td>\n",
       "      <td>...</td>\n",
       "      <td>0.0</td>\n",
       "      <td>0.0</td>\n",
       "      <td>1.0</td>\n",
       "      <td>0.0</td>\n",
       "      <td>0.0</td>\n",
       "      <td>45.0</td>\n",
       "      <td>11.0</td>\n",
       "      <td>0.0</td>\n",
       "      <td>0.0</td>\n",
       "      <td>40.0</td>\n",
       "    </tr>\n",
       "    <tr>\n",
       "      <th>1</th>\n",
       "      <td>0.0</td>\n",
       "      <td>1.0</td>\n",
       "      <td>0.0</td>\n",
       "      <td>0.0</td>\n",
       "      <td>0.0</td>\n",
       "      <td>0.0</td>\n",
       "      <td>0.0</td>\n",
       "      <td>0.0</td>\n",
       "      <td>1.0</td>\n",
       "      <td>0.0</td>\n",
       "      <td>...</td>\n",
       "      <td>0.0</td>\n",
       "      <td>0.0</td>\n",
       "      <td>1.0</td>\n",
       "      <td>0.0</td>\n",
       "      <td>0.0</td>\n",
       "      <td>65.0</td>\n",
       "      <td>10.0</td>\n",
       "      <td>0.0</td>\n",
       "      <td>0.0</td>\n",
       "      <td>40.0</td>\n",
       "    </tr>\n",
       "    <tr>\n",
       "      <th>2</th>\n",
       "      <td>0.0</td>\n",
       "      <td>0.0</td>\n",
       "      <td>0.0</td>\n",
       "      <td>1.0</td>\n",
       "      <td>0.0</td>\n",
       "      <td>0.0</td>\n",
       "      <td>1.0</td>\n",
       "      <td>0.0</td>\n",
       "      <td>0.0</td>\n",
       "      <td>0.0</td>\n",
       "      <td>...</td>\n",
       "      <td>0.0</td>\n",
       "      <td>0.0</td>\n",
       "      <td>1.0</td>\n",
       "      <td>0.0</td>\n",
       "      <td>0.0</td>\n",
       "      <td>23.0</td>\n",
       "      <td>9.0</td>\n",
       "      <td>0.0</td>\n",
       "      <td>0.0</td>\n",
       "      <td>50.0</td>\n",
       "    </tr>\n",
       "    <tr>\n",
       "      <th>3</th>\n",
       "      <td>0.0</td>\n",
       "      <td>1.0</td>\n",
       "      <td>0.0</td>\n",
       "      <td>0.0</td>\n",
       "      <td>0.0</td>\n",
       "      <td>0.0</td>\n",
       "      <td>0.0</td>\n",
       "      <td>0.0</td>\n",
       "      <td>1.0</td>\n",
       "      <td>0.0</td>\n",
       "      <td>...</td>\n",
       "      <td>0.0</td>\n",
       "      <td>0.0</td>\n",
       "      <td>1.0</td>\n",
       "      <td>0.0</td>\n",
       "      <td>0.0</td>\n",
       "      <td>20.0</td>\n",
       "      <td>10.0</td>\n",
       "      <td>0.0</td>\n",
       "      <td>0.0</td>\n",
       "      <td>40.0</td>\n",
       "    </tr>\n",
       "    <tr>\n",
       "      <th>4</th>\n",
       "      <td>0.0</td>\n",
       "      <td>0.0</td>\n",
       "      <td>1.0</td>\n",
       "      <td>0.0</td>\n",
       "      <td>0.0</td>\n",
       "      <td>0.0</td>\n",
       "      <td>0.0</td>\n",
       "      <td>1.0</td>\n",
       "      <td>0.0</td>\n",
       "      <td>0.0</td>\n",
       "      <td>...</td>\n",
       "      <td>0.0</td>\n",
       "      <td>0.0</td>\n",
       "      <td>1.0</td>\n",
       "      <td>0.0</td>\n",
       "      <td>0.0</td>\n",
       "      <td>50.0</td>\n",
       "      <td>14.0</td>\n",
       "      <td>7298.0</td>\n",
       "      <td>0.0</td>\n",
       "      <td>50.0</td>\n",
       "    </tr>\n",
       "  </tbody>\n",
       "</table>\n",
       "<p>5 rows × 42 columns</p>\n",
       "</div>"
      ],
      "text/plain": [
       "   encoder__workclass_Local-gov  encoder__workclass_Private  \\\n",
       "0                           0.0                         1.0   \n",
       "1                           0.0                         1.0   \n",
       "2                           0.0                         0.0   \n",
       "3                           0.0                         1.0   \n",
       "4                           0.0                         0.0   \n",
       "\n",
       "   encoder__workclass_Self-emp-inc  encoder__workclass_Self-emp-not-inc  \\\n",
       "0                              0.0                                  0.0   \n",
       "1                              0.0                                  0.0   \n",
       "2                              0.0                                  1.0   \n",
       "3                              0.0                                  0.0   \n",
       "4                              1.0                                  0.0   \n",
       "\n",
       "   encoder__workclass_infrequent_sklearn  encoder__education_Bachelors  \\\n",
       "0                                    0.0                           0.0   \n",
       "1                                    0.0                           0.0   \n",
       "2                                    0.0                           0.0   \n",
       "3                                    0.0                           0.0   \n",
       "4                                    0.0                           0.0   \n",
       "\n",
       "   encoder__education_HS-grad  encoder__education_Masters  \\\n",
       "0                         0.0                         0.0   \n",
       "1                         0.0                         0.0   \n",
       "2                         1.0                         0.0   \n",
       "3                         0.0                         0.0   \n",
       "4                         0.0                         1.0   \n",
       "\n",
       "   encoder__education_Some-college  encoder__education_infrequent_sklearn  \\\n",
       "0                              0.0                                    1.0   \n",
       "1                              1.0                                    0.0   \n",
       "2                              0.0                                    0.0   \n",
       "3                              1.0                                    0.0   \n",
       "4                              0.0                                    0.0   \n",
       "\n",
       "   ...  encoder__native-country_Mexico  encoder__native-country_Philippines  \\\n",
       "0  ...                             0.0                                  0.0   \n",
       "1  ...                             0.0                                  0.0   \n",
       "2  ...                             0.0                                  0.0   \n",
       "3  ...                             0.0                                  0.0   \n",
       "4  ...                             0.0                                  0.0   \n",
       "\n",
       "   encoder__native-country_United-States  encoder__native-country_nan  \\\n",
       "0                                    1.0                          0.0   \n",
       "1                                    1.0                          0.0   \n",
       "2                                    1.0                          0.0   \n",
       "3                                    1.0                          0.0   \n",
       "4                                    1.0                          0.0   \n",
       "\n",
       "   encoder__native-country_infrequent_sklearn  remainder__age  \\\n",
       "0                                         0.0            45.0   \n",
       "1                                         0.0            65.0   \n",
       "2                                         0.0            23.0   \n",
       "3                                         0.0            20.0   \n",
       "4                                         0.0            50.0   \n",
       "\n",
       "   remainder__education-num  remainder__capital-gain  remainder__capital-loss  \\\n",
       "0                      11.0                      0.0                      0.0   \n",
       "1                      10.0                      0.0                      0.0   \n",
       "2                       9.0                      0.0                      0.0   \n",
       "3                      10.0                      0.0                      0.0   \n",
       "4                      14.0                   7298.0                      0.0   \n",
       "\n",
       "   remainder__hours-per-week  \n",
       "0                       40.0  \n",
       "1                       40.0  \n",
       "2                       50.0  \n",
       "3                       40.0  \n",
       "4                       50.0  \n",
       "\n",
       "[5 rows x 42 columns]"
      ]
     },
     "execution_count": 67,
     "metadata": {},
     "output_type": "execute_result"
    }
   ],
   "source": [
    "X_train.head()"
   ]
  },
  {
   "cell_type": "code",
   "execution_count": 68,
   "id": "b52f8ca9-a234-49cf-95ac-a125a8a0af98",
   "metadata": {
    "tags": []
   },
   "outputs": [
    {
     "name": "stdout",
     "output_type": "stream",
     "text": [
      "Accuracy: 0.5895\n"
     ]
    }
   ],
   "source": [
    "mnb = MultinomialNB()\n",
    "mnb.fit(X_train, y_train)\n",
    "y_pred = mnb.predict(X_test)\n",
    "\n",
    "print('Accuracy: {0:0.4f}'.format(accuracy_score(y_test, y_pred)))"
   ]
  },
  {
   "cell_type": "code",
   "execution_count": null,
   "id": "2cdcbfec-0b42-4b1b-893f-f352ebda1b25",
   "metadata": {},
   "outputs": [],
   "source": []
  }
 ],
 "metadata": {
  "kernelspec": {
   "display_name": "Python 3 (ipykernel)",
   "language": "python",
   "name": "python3"
  },
  "language_info": {
   "codemirror_mode": {
    "name": "ipython",
    "version": 3
   },
   "file_extension": ".py",
   "mimetype": "text/x-python",
   "name": "python",
   "nbconvert_exporter": "python",
   "pygments_lexer": "ipython3",
   "version": "3.10.4"
  }
 },
 "nbformat": 4,
 "nbformat_minor": 5
}
