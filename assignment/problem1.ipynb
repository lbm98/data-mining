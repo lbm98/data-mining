{
 "cells": [
  {
   "cell_type": "markdown",
   "id": "637da336-4b1b-4dbe-b7a1-6463ef3f927d",
   "metadata": {},
   "source": [
    "## Problem Statement\n",
    "\n",
    "I have 2 attributes, a binary attribute \"income\" with values \"high\" or \"low\",\n",
    "and a continuous attribute \"capital\".\n",
    "I want to know wether \"capital\" is a good predictor for \"income\".\n",
    "\n",
    "## Solution 1: Logistic Regression\n",
    "\n",
    "## Preprocessing\n",
    "\n",
    "The features `capital-gain` and `captial-loss` are mutually exclusive.\n",
    "Meaning that they can never be both non-zero.\n",
    "\n",
    "### Eliminate Objects\n",
    "\n",
    "We will remove the objects that have no \"capital\" information.\n",
    "Meaning that both `capital-gain` and `capital-loss` are zero.\n",
    "\n",
    "### Feature Creation\n",
    "\n",
    "Combine `capital-gain` and `captial-loss` into one feature which we will call `capital`.\n",
    "This new feature will leave `capital-gain` as is, but will negate `capital-loss` to reflect the \"loss\" property."
   ]
  },
  {
   "cell_type": "code",
   "execution_count": 11,
   "id": "5896be3e-f7b0-4d28-97cf-4ca13c2c3986",
   "metadata": {
    "tags": []
   },
   "outputs": [],
   "source": [
    "import pandas as pd"
   ]
  },
  {
   "cell_type": "code",
   "execution_count": 12,
   "id": "99146646-9c4c-4c9a-afe9-2b9cc67511ac",
   "metadata": {
    "tags": []
   },
   "outputs": [
    {
     "name": "stderr",
     "output_type": "stream",
     "text": [
      "C:\\Users\\gta\\PycharmProjects\\data-mining\\.venv\\lib\\site-packages\\openpyxl\\styles\\stylesheet.py:226: UserWarning: Workbook contains no default style, apply openpyxl's default\n",
      "  warn(\"Workbook contains no default style, apply openpyxl's default\")\n"
     ]
    },
    {
     "name": "stdout",
     "output_type": "stream",
     "text": [
      "The full dataframe has 32561 rows\n"
     ]
    }
   ],
   "source": [
    "df = pd.read_excel('data/existing-customers.xlsx')\n",
    "print(f'The full dataframe has {len(df)} rows')"
   ]
  },
  {
   "cell_type": "code",
   "execution_count": 13,
   "id": "2bdddc50-14f6-4b06-bd9a-77e12c6a49c0",
   "metadata": {
    "tags": []
   },
   "outputs": [
    {
     "name": "stdout",
     "output_type": "stream",
     "text": [
      "The filtered dataframe has 4231 rows\n"
     ]
    }
   ],
   "source": [
    "df = df.loc[~((df['capital-gain'] == 0) & (df['capital-loss'] == 0))]\n",
    "print(f'The filtered dataframe has {len(df)} rows')"
   ]
  },
  {
   "cell_type": "code",
   "execution_count": 21,
   "id": "00c2b658-35aa-4ba1-ae9f-a9671eeeb23f",
   "metadata": {
    "tags": []
   },
   "outputs": [
    {
     "data": {
      "text/html": [
       "<div>\n",
       "<style scoped>\n",
       "    .dataframe tbody tr th:only-of-type {\n",
       "        vertical-align: middle;\n",
       "    }\n",
       "\n",
       "    .dataframe tbody tr th {\n",
       "        vertical-align: top;\n",
       "    }\n",
       "\n",
       "    .dataframe thead th {\n",
       "        text-align: right;\n",
       "    }\n",
       "</style>\n",
       "<table border=\"1\" class=\"dataframe\">\n",
       "  <thead>\n",
       "    <tr style=\"text-align: right;\">\n",
       "      <th></th>\n",
       "      <th>capital</th>\n",
       "      <th>class</th>\n",
       "    </tr>\n",
       "  </thead>\n",
       "  <tbody>\n",
       "    <tr>\n",
       "      <th>0</th>\n",
       "      <td>2174</td>\n",
       "      <td>&lt;=50K</td>\n",
       "    </tr>\n",
       "    <tr>\n",
       "      <th>8</th>\n",
       "      <td>14084</td>\n",
       "      <td>&gt;50K</td>\n",
       "    </tr>\n",
       "    <tr>\n",
       "      <th>9</th>\n",
       "      <td>5178</td>\n",
       "      <td>&gt;50K</td>\n",
       "    </tr>\n",
       "    <tr>\n",
       "      <th>23</th>\n",
       "      <td>-2042</td>\n",
       "      <td>&lt;=50K</td>\n",
       "    </tr>\n",
       "    <tr>\n",
       "      <th>32</th>\n",
       "      <td>-1408</td>\n",
       "      <td>&lt;=50K</td>\n",
       "    </tr>\n",
       "  </tbody>\n",
       "</table>\n",
       "</div>"
      ],
      "text/plain": [
       "    capital  class\n",
       "0      2174  <=50K\n",
       "8     14084   >50K\n",
       "9      5178   >50K\n",
       "23    -2042  <=50K\n",
       "32    -1408  <=50K"
      ]
     },
     "execution_count": 21,
     "metadata": {},
     "output_type": "execute_result"
    }
   ],
   "source": [
    "df['capital'] = df['capital-gain'] - df['capital-loss']\n",
    "df[['capital', 'class']].head()"
   ]
  },
  {
   "cell_type": "code",
   "execution_count": 25,
   "id": "6bc6c196-aa53-4bd5-8e98-01cbff43d3a2",
   "metadata": {
    "tags": []
   },
   "outputs": [
    {
     "name": "stdout",
     "output_type": "stream",
     "text": [
      "Accuracy: 0.6055118110236221\n"
     ]
    }
   ],
   "source": [
    "from sklearn.linear_model import LogisticRegression\n",
    "from sklearn.model_selection import train_test_split\n",
    "from sklearn.metrics import accuracy_score\n",
    "\n",
    "# Separate predictor variable (capital) and dependent variable (class)\n",
    "X = df[['capital']]\n",
    "y = df['class']\n",
    "\n",
    "# Split data into training and testing sets\n",
    "X_train, X_test, y_train, y_test = train_test_split(X, y, test_size=0.3, random_state=0)\n",
    "\n",
    "# Create logistic regression model and fit to training data\n",
    "logreg = LogisticRegression()\n",
    "logreg.fit(X_train, y_train)\n",
    "\n",
    "# Use model to predict income for testing data\n",
    "y_pred = logreg.predict(X_test)\n",
    "\n",
    "# Calculate accuracy of model\n",
    "accuracy = accuracy_score(y_test, y_pred)\n",
    "\n",
    "print('Accuracy:', accuracy)\n"
   ]
  },
  {
   "cell_type": "code",
   "execution_count": null,
   "id": "cc2b9e2d-ab29-4f1b-a0d4-15083bd66943",
   "metadata": {},
   "outputs": [],
   "source": []
  }
 ],
 "metadata": {
  "kernelspec": {
   "display_name": "Python 3 (ipykernel)",
   "language": "python",
   "name": "python3"
  },
  "language_info": {
   "codemirror_mode": {
    "name": "ipython",
    "version": 3
   },
   "file_extension": ".py",
   "mimetype": "text/x-python",
   "name": "python",
   "nbconvert_exporter": "python",
   "pygments_lexer": "ipython3",
   "version": "3.10.4"
  }
 },
 "nbformat": 4,
 "nbformat_minor": 5
}
