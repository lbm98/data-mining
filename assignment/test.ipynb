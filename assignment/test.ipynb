{
 "cells": [
  {
   "cell_type": "code",
   "execution_count": 2,
   "id": "e9624ebe-588e-4f7e-b3e4-6479c489ebc1",
   "metadata": {
    "tags": []
   },
   "outputs": [],
   "source": [
    "import numpy as np\n",
    "import pandas as pd\n",
    "import seaborn as sns\n",
    "import matplotlib.pyplot as plt"
   ]
  },
  {
   "cell_type": "code",
   "execution_count": 4,
   "id": "84175b8f-c0af-4bc8-a264-c1fefa729bde",
   "metadata": {
    "tags": []
   },
   "outputs": [],
   "source": [
    "x = y = z = np.arange(0.0,5.0,1.0)\n",
    "np.savetxt('test.csv', [x], delimiter=',')   # X is an array"
   ]
  },
  {
   "cell_type": "code",
   "execution_count": null,
   "id": "30d4209f-c71a-4d12-9fc7-3b98d62b49bb",
   "metadata": {},
   "outputs": [],
   "source": []
  }
 ],
 "metadata": {
  "kernelspec": {
   "display_name": "Python 3 (ipykernel)",
   "language": "python",
   "name": "python3"
  },
  "language_info": {
   "codemirror_mode": {
    "name": "ipython",
    "version": 3
   },
   "file_extension": ".py",
   "mimetype": "text/x-python",
   "name": "python",
   "nbconvert_exporter": "python",
   "pygments_lexer": "ipython3",
   "version": "3.10.4"
  }
 },
 "nbformat": 4,
 "nbformat_minor": 5
}
