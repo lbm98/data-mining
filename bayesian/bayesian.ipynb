{
 "cells": [
  {
   "cell_type": "markdown",
   "id": "f59a06d0-ef6b-410d-a71b-1f63ed7df958",
   "metadata": {},
   "source": [
    "# Bayesian Classifiers\n",
    "\n",
    "For attribute set $\\boldsymbol{X}$ and class label $Y$\n",
    "\n",
    "- Prior Probabiltiy $P \\left( Y \\right)$ \n",
    "- Posterior Probabiltiy $P \\left( Y \\vert \\boldsymbol{X} \\right)$\n",
    "- Class-conditional Probability $P \\left( \\boldsymbol{X} \\vert Y \\right)$"
   ]
  },
  {
   "cell_type": "code",
   "execution_count": 6,
   "id": "0c5ba95c-7e88-4aac-9ae3-c5cbd7a60793",
   "metadata": {
    "tags": []
   },
   "outputs": [],
   "source": [
    "import numpy as np\n",
    "import pandas as pd"
   ]
  },
  {
   "cell_type": "code",
   "execution_count": 10,
   "id": "fdb58cc4-55e6-43cf-b3b2-059535286104",
   "metadata": {
    "tags": []
   },
   "outputs": [
    {
     "data": {
      "text/html": [
       "<div>\n",
       "<style scoped>\n",
       "    .dataframe tbody tr th:only-of-type {\n",
       "        vertical-align: middle;\n",
       "    }\n",
       "\n",
       "    .dataframe tbody tr th {\n",
       "        vertical-align: top;\n",
       "    }\n",
       "\n",
       "    .dataframe thead th {\n",
       "        text-align: right;\n",
       "    }\n",
       "</style>\n",
       "<table border=\"1\" class=\"dataframe\">\n",
       "  <thead>\n",
       "    <tr style=\"text-align: right;\">\n",
       "      <th></th>\n",
       "      <th>Tid</th>\n",
       "      <th>Home Owner</th>\n",
       "      <th>Marital Status</th>\n",
       "      <th>Annual Income</th>\n",
       "      <th>Defaulted Borrower</th>\n",
       "    </tr>\n",
       "  </thead>\n",
       "  <tbody>\n",
       "    <tr>\n",
       "      <th>0</th>\n",
       "      <td>1</td>\n",
       "      <td>Yes</td>\n",
       "      <td>Single</td>\n",
       "      <td>125K</td>\n",
       "      <td>No</td>\n",
       "    </tr>\n",
       "    <tr>\n",
       "      <th>1</th>\n",
       "      <td>2</td>\n",
       "      <td>No</td>\n",
       "      <td>Married</td>\n",
       "      <td>100K</td>\n",
       "      <td>No</td>\n",
       "    </tr>\n",
       "    <tr>\n",
       "      <th>2</th>\n",
       "      <td>3</td>\n",
       "      <td>No</td>\n",
       "      <td>Single</td>\n",
       "      <td>70K</td>\n",
       "      <td>No</td>\n",
       "    </tr>\n",
       "    <tr>\n",
       "      <th>3</th>\n",
       "      <td>4</td>\n",
       "      <td>Yes</td>\n",
       "      <td>Married</td>\n",
       "      <td>120K</td>\n",
       "      <td>No</td>\n",
       "    </tr>\n",
       "    <tr>\n",
       "      <th>4</th>\n",
       "      <td>5</td>\n",
       "      <td>No</td>\n",
       "      <td>Divorced</td>\n",
       "      <td>95K</td>\n",
       "      <td>Yes</td>\n",
       "    </tr>\n",
       "  </tbody>\n",
       "</table>\n",
       "</div>"
      ],
      "text/plain": [
       "   Tid Home Owner Marital Status Annual Income Defaulted Borrower\n",
       "0    1        Yes         Single          125K                 No\n",
       "1    2         No        Married          100K                 No\n",
       "2    3         No         Single           70K                 No\n",
       "3    4        Yes        Married          120K                 No\n",
       "4    5         No       Divorced           95K                Yes"
      ]
     },
     "execution_count": 10,
     "metadata": {},
     "output_type": "execute_result"
    }
   ],
   "source": [
    "loan = pd.read_csv('bayesian/loan.csv')\n",
    "loan.head()"
   ]
  },
  {
   "cell_type": "code",
   "execution_count": null,
   "id": "7e28c4e1-1ae1-4126-9d06-cfbf6772a03a",
   "metadata": {},
   "outputs": [],
   "source": []
  },
  {
   "cell_type": "code",
   "execution_count": 26,
   "id": "1c45ae7d-fc06-4525-a659-c93255622a27",
   "metadata": {
    "tags": []
   },
   "outputs": [],
   "source": [
    "def get_prior_probs(df, class_label):\n",
    "    return df[class_label].value_counts() / len(df)  "
   ]
  },
  {
   "cell_type": "code",
   "execution_count": 27,
   "id": "fcf02575-9d92-41dc-8b2c-f5b98e472bf2",
   "metadata": {
    "tags": []
   },
   "outputs": [
    {
     "data": {
      "text/plain": [
       "No     0.7\n",
       "Yes    0.3\n",
       "Name: Home Owner, dtype: float64"
      ]
     },
     "execution_count": 27,
     "metadata": {},
     "output_type": "execute_result"
    }
   ],
   "source": [
    "prior_probs = get_prior_probs(loan, 'Home Owner')\n",
    "prior_probs"
   ]
  },
  {
   "cell_type": "markdown",
   "id": "7357c9a1-7d40-4990-8010-1ea92817a4f7",
   "metadata": {},
   "source": [
    "Goal: given attributes (HO=No, MS=Maried, AI=120K) predict class label"
   ]
  },
  {
   "cell_type": "code",
   "execution_count": null,
   "id": "36461f6c-3f10-4aa1-bcb8-7c9957411e82",
   "metadata": {},
   "outputs": [],
   "source": []
  }
 ],
 "metadata": {
  "kernelspec": {
   "display_name": "Python 3 (ipykernel)",
   "language": "python",
   "name": "python3"
  },
  "language_info": {
   "codemirror_mode": {
    "name": "ipython",
    "version": 3
   },
   "file_extension": ".py",
   "mimetype": "text/x-python",
   "name": "python",
   "nbconvert_exporter": "python",
   "pygments_lexer": "ipython3",
   "version": "3.10.4"
  }
 },
 "nbformat": 4,
 "nbformat_minor": 5
}
