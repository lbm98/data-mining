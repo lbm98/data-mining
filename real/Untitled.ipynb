{
 "cells": [
  {
   "cell_type": "markdown",
   "id": "58aaa428-ecd6-472b-ab25-d1f5404f1ca2",
   "metadata": {},
   "source": [
    "# Overview"
   ]
  },
  {
   "cell_type": "markdown",
   "id": "983889bc-592e-4b1b-9851-c1b09c9a501b",
   "metadata": {},
   "source": [
    "**Dataset**:\n",
    "https://archive.ics.uci.edu/ml/datasets/adult\n",
    "\n",
    "**Paper**:\n",
    "Scaling Up the Accuracy of Naive-Bayes Classifiers: a Decision-Tree Hybrid\n",
    "http://robotics.stanford.edu/~ronnyk/nbtree.pdf\n",
    "\n",
    "**Algorithms**:\n",
    "- Decision Trees\n",
    "    - fragmentation problem (too little data after many splits) (-)\n",
    "- Naive Bayes\n",
    "    - robust to irrelevant attributes (+)\n",
    "    - require strong independence assumptions (-)\n",
    "\n",
    "**Notes**:\n",
    "- interpretability is crucial\n",
    "\n"
   ]
  },
  {
   "cell_type": "markdown",
   "id": "baae5c51-3663-46eb-b878-71ec85618b71",
   "metadata": {},
   "source": [
    "## Problem Statement\n",
    "\n",
    "The Adult dataset is from the Census bureau and the\n",
    "task is to predict whether a given adult makes more than\n",
    "$50,000 a year based attributes such as education, hours of\n",
    "work per week, etc..\n",
    "\n",
    "What classification algorithms are appropriate?\n",
    "\n",
    "## Solution\n",
    "\n",
    "- Logistic Regression\n",
    "- Decision Trees\n",
    "- Random Forest\n",
    "- Support Vector Machines\n",
    "- Naive Bayes\n",
    "\n",
    "\n"
   ]
  }
 ],
 "metadata": {
  "kernelspec": {
   "display_name": "Python 3 (ipykernel)",
   "language": "python",
   "name": "python3"
  },
  "language_info": {
   "codemirror_mode": {
    "name": "ipython",
    "version": 3
   },
   "file_extension": ".py",
   "mimetype": "text/x-python",
   "name": "python",
   "nbconvert_exporter": "python",
   "pygments_lexer": "ipython3",
   "version": "3.10.4"
  }
 },
 "nbformat": 4,
 "nbformat_minor": 5
}
