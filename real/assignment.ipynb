{
 "cells": [
  {
   "cell_type": "markdown",
   "id": "8d52bdda-9df1-42b2-8340-1203cec69dac",
   "metadata": {},
   "source": [
    "# Assignment\n",
    "\n",
    "## Context\n",
    "\n",
    "Select people for a promotion and maximize the revenue.\n",
    "\n",
    "People can accept (react positively) or reject the promotion offer.\n",
    "- High income -> 10% accept\n",
    "- Low income -> 5% accept\n",
    "\n",
    "The return of a customer differs.\n",
    "- High income -> 980 Euro\n",
    "- Low income -> -310 Euro\n",
    "\n",
    "The cost of sending the promotion is 10 Euro.\n",
    "\n",
    "2 datasets:\n",
    "- Potential customers (no income data)\n",
    "- Existing customers (with income data)\n",
    "\n",
    "Calculate:\n",
    "- Selection of people to send the promotion\n",
    "- Estimation of the profit\n",
    "\n",
    "It is very important to classify every high income person as high income!\n",
    "https://www.youtube.com/watch?v=4jRBRDbJemM&ab_channel=StatQuestwithJoshStarmer"
   ]
  },
  {
   "cell_type": "markdown",
   "id": "e162e26c-6209-46bf-9aa2-18f02371724c",
   "metadata": {},
   "source": [
    "TPR = 1 $\\implies$ we correctly classified ALL of the samples that were obese\n",
    "FPR = 1 $\\implies$ we INcorrectly classified ALL of the samples that were NOT obese\n",
    "\n",
    "TPR = 1 $\\implies$ we correctly classified ALL of the samples that were obese\n",
    "FPR = 0.75 $\\implies$ we INcorrectly classified MOST of the samples that were NOT obese\n",
    "\n",
    "TPR = 1 $\\implies$ we correctly classified ALL of the samples that were obese\n",
    "FPR = 0.5 $\\implies$ we INcorrectly classified HALF of the samples that were NOT obese\n",
    "\n",
    "TPR = 0.75\n",
    "FPR = 0.25\n",
    "\n",
    "TPR = 0.75 $\\implies$ we correctly classified MOST of the samples that were obese\n",
    "FPR = 0 $\\implies$ we INcorrectly classified NONE of the samples that were NOT obese\n",
    "\n",
    "...\n",
    "\n",
    "TPR = 0\n",
    "FPR = 0"
   ]
  }
 ],
 "metadata": {
  "kernelspec": {
   "display_name": "Python 3 (ipykernel)",
   "language": "python",
   "name": "python3"
  },
  "language_info": {
   "codemirror_mode": {
    "name": "ipython",
    "version": 3
   },
   "file_extension": ".py",
   "mimetype": "text/x-python",
   "name": "python",
   "nbconvert_exporter": "python",
   "pygments_lexer": "ipython3",
   "version": "3.10.4"
  }
 },
 "nbformat": 4,
 "nbformat_minor": 5
}
