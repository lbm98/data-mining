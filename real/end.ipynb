{
 "cells": [
  {
   "cell_type": "markdown",
   "id": "8d52bdda-9df1-42b2-8340-1203cec69dac",
   "metadata": {},
   "source": [
    "# Assignment\n",
    "\n",
    "## Context\n",
    "\n",
    "Select people for a promotion and maximize the revenue.\n",
    "\n",
    "People can accept (react positively) or reject the promotion offer.\n",
    "- High income -> 10% accept\n",
    "- Low income -> 5% accept\n",
    "\n",
    "The return of a customer differs.\n",
    "- High income -> 980 Euro\n",
    "- Low income -> -310 Euro\n",
    "\n",
    "The cost of sending the promotion is 10 Euro.\n",
    "\n",
    "2 datasets:\n",
    "- Potential customers (no income data)\n",
    "- Existing customers (with income data)\n",
    "\n",
    "Calculate:\n",
    "- Selection of people to send the promotion\n",
    "- Estimation of the profit"
   ]
  },
  {
   "cell_type": "code",
   "execution_count": null,
   "id": "09a3225e-b4f9-4069-98a1-0857338a34ad",
   "metadata": {},
   "outputs": [],
   "source": []
  }
 ],
 "metadata": {
  "kernelspec": {
   "display_name": "Python 3 (ipykernel)",
   "language": "python",
   "name": "python3"
  },
  "language_info": {
   "codemirror_mode": {
    "name": "ipython",
    "version": 3
   },
   "file_extension": ".py",
   "mimetype": "text/x-python",
   "name": "python",
   "nbconvert_exporter": "python",
   "pygments_lexer": "ipython3",
   "version": "3.10.4"
  }
 },
 "nbformat": 4,
 "nbformat_minor": 5
}
